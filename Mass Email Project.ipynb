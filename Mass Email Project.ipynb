{
 "cells": [
  {
   "cell_type": "code",
   "execution_count": 1,
   "metadata": {
    "scrolled": true
   },
   "outputs": [
    {
     "name": "stdout",
     "output_type": "stream",
     "text": [
      "Looking in indexes: https://pypi.tuna.tsinghua.edu.cn/simple\n",
      "Collecting py3dns\n",
      "  Downloading https://pypi.tuna.tsinghua.edu.cn/packages/8a/b7/bd0fca1b330527ccf5f47a586900797dd1e054909f7d4c5e287de8b3fe59/py3dns-3.2.1.tar.gz (30 kB)\n",
      "Building wheels for collected packages: py3dns\n",
      "  Building wheel for py3dns (setup.py): started\n",
      "  Building wheel for py3dns (setup.py): finished with status 'done'\n",
      "  Created wheel for py3dns: filename=py3dns-3.2.1-py3-none-any.whl size=20842 sha256=f4241a1b0ae61f82b28b7f3accc7e79d7122dc05be598dbfe2b6dbed97d0cc49\n",
      "  Stored in directory: c:\\users\\d1043\\appdata\\local\\pip\\cache\\wheels\\f3\\78\\24\\261d0782e3b6dbadae33ae7c76f119a0bec53560c80f268a6d\n",
      "Successfully built py3dns\n",
      "Installing collected packages: py3dns\n",
      "Successfully installed py3dns-3.2.1\n",
      "Looking in indexes: https://pypi.tuna.tsinghua.edu.cn/simple\n",
      "Collecting validate-email-address\n",
      "  Downloading https://pypi.tuna.tsinghua.edu.cn/packages/62/4c/bf53c66bf1a28635a755e943e2fbd0b29db7ebb9ae8fe9e72d3c4b14907b/validate-email-address-1.tar.gz (4.9 kB)\n",
      "Building wheels for collected packages: validate-email-address\n",
      "  Building wheel for validate-email-address (setup.py): started\n",
      "  Building wheel for validate-email-address (setup.py): finished with status 'done'\n",
      "  Created wheel for validate-email-address: filename=validate_email_address-1-py3-none-any.whl size=5740 sha256=257fe2a2ccfa4cdc2060badf141337789fae1fd1a80063b34cfde87bd60dea1a\n",
      "  Stored in directory: c:\\users\\d1043\\appdata\\local\\pip\\cache\\wheels\\40\\97\\b3\\1db83a14fa10aa2a0af7ad0e3151e80c390eb61b97c914727d\n",
      "Successfully built validate-email-address\n",
      "Installing collected packages: validate-email-address\n",
      "Successfully installed validate-email-address-1\n",
      "Looking in indexes: https://pypi.tuna.tsinghua.edu.cn/simple\n",
      "Requirement already satisfied: pywin32 in c:\\anaconda3\\lib\\site-packages (227)\n"
     ]
    }
   ],
   "source": [
    "!pip install py3dns\n",
    "!pip install validate-email-address\n",
    "!pip install pywin32"
   ]
  },
  {
   "cell_type": "code",
   "execution_count": 5,
   "metadata": {},
   "outputs": [],
   "source": [
    "import csv"
   ]
  },
  {
   "cell_type": "code",
   "execution_count": 22,
   "metadata": {},
   "outputs": [
    {
     "name": "stdout",
     "output_type": "stream",
     "text": [
      "ssling.ee07@nycu.edu.tw\n",
      "Email valid: True\n",
      "Email exist: True\n",
      "ssling.eed07@nctu.edu.tw\n",
      "Email valid: True\n",
      "Email exist: True\n",
      "d10431927@gapps.fg.tp.edu.tw\n",
      "Email valid: True\n",
      "Email exist: None\n",
      "ssling0817@gmail.com\n",
      "Email valid: True\n",
      "Email exist: True\n"
     ]
    }
   ],
   "source": [
    "from validate_email_address import validate_email\n",
    "file = open('Email_validation.csv')\n",
    "csvreader = csv.reader(file)\n",
    "exist_emails = \"\"\n",
    "for i, row in enumerate(csvreader):\n",
    "    if i==0:\n",
    "        continue\n",
    "    print(row[0].encode('ascii', 'ignore').decode('ascii'))\n",
    "    isvalid = validate_email(row[0].encode('ascii', 'ignore').decode('ascii'))\n",
    "    print('Email valid:', isvalid)\n",
    "  \n",
    "    isExists = validate_email(row[0].encode('ascii', 'ignore').decode('ascii'), verify=True)\n",
    "    #isExists = validate_email(\"d10431927@gapps.fg.tp.edu.tw\", verify=True)\n",
    "    \n",
    "    print('Email exist:', isExists)\n",
    "    if isExists:\n",
    "        exist_emails=exist_emails+row[0]+\";\"\n"
   ]
  },
  {
   "cell_type": "code",
   "execution_count": 25,
   "metadata": {},
   "outputs": [],
   "source": [
    "\n",
    "import win32com.client as win32\n",
    "\n",
    "# =============================================================================\n",
    "# 基本設定\n",
    "# =============================================================================\n",
    "outlook = win32.Dispatch('outlook.application')\n",
    "mail = outlook.CreateItem(0)\n",
    "\n",
    "mail.To = exist_emails#\"test@outlook.com;test2@outlook.com;test3@outlook.com;\"  # 收件邮箱列表,如多人用;隔开\n",
    "#mail.CC = 'test@outlook.com'  # 抄送邮箱列表\n",
    "#mail.BCC = \"test@outlook.com\" # 密抄邮箱列表，谨慎使用\n",
    "mail.Subject = \"Test\"\n",
    "mail.BodyFormat = 2  # 2: Html format\n",
    "# mail.Body = \"邮件正文\"  # 如不需要HTML格式使用\n",
    "mail.HTMLBody = '<h1>你好!!</h1>'\n",
    "#mail.Attachments.Add(\"附件绝对路径\")\n",
    "# mail.Attachments.Add(\"附件1绝对路径\")\n",
    "# mail.Attachments.Add(\"附件2绝对路径\")...\n",
    "\n",
    "mail.Send()"
   ]
  },
  {
   "cell_type": "code",
   "execution_count": null,
   "metadata": {},
   "outputs": [],
   "source": []
  },
  {
   "cell_type": "code",
   "execution_count": null,
   "metadata": {},
   "outputs": [],
   "source": []
  }
 ],
 "metadata": {
  "kernelspec": {
   "display_name": "Python 3",
   "language": "python",
   "name": "python3"
  },
  "language_info": {
   "codemirror_mode": {
    "name": "ipython",
    "version": 3
   },
   "file_extension": ".py",
   "mimetype": "text/x-python",
   "name": "python",
   "nbconvert_exporter": "python",
   "pygments_lexer": "ipython3",
   "version": "3.7.6"
  }
 },
 "nbformat": 4,
 "nbformat_minor": 5
}
